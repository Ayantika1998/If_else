{
  "nbformat": 4,
  "nbformat_minor": 0,
  "metadata": {
    "colab": {
      "name": "Simple_if_else.ipynb",
      "provenance": []
    },
    "kernelspec": {
      "name": "python3",
      "display_name": "Python 3"
    },
    "language_info": {
      "name": "python"
    }
  },
  "cells": [
    {
      "cell_type": "code",
      "execution_count": 1,
      "metadata": {
        "colab": {
          "base_uri": "https://localhost:8080/"
        },
        "id": "cnMbnPjQcUlR",
        "outputId": "bccf4f4d-21f2-45a7-9f5c-7ab47948ffa9"
      },
      "outputs": [
        {
          "name": "stdout",
          "output_type": "stream",
          "text": [
            "First number:10\n",
            "Second number:20\n"
          ]
        }
      ],
      "source": [
        "a = int(input(\"First number:\"))\n",
        "b = int(input(\"Second number:\"))\n",
        "\n"
      ]
    },
    {
      "cell_type": "code",
      "source": [
        "%%writefile script1\n",
        "if a>b:\n",
        "  c=a\n",
        "else:\n",
        "  c=b\n",
        "print (\"the larger of two no. is - \",c)"
      ],
      "metadata": {
        "colab": {
          "base_uri": "https://localhost:8080/"
        },
        "id": "FnAQSCVUc9n1",
        "outputId": "117e8b97-2bc4-43a8-d88a-77a3595cfccb"
      },
      "execution_count": 5,
      "outputs": [
        {
          "output_type": "stream",
          "name": "stdout",
          "text": [
            "the larger of two no. is -  20\n"
          ]
        }
      ]
    },
    {
      "cell_type": "code",
      "source": [
        "%%writefile script2\n",
        "if a<b:\n",
        "  d=a\n",
        "else:\n",
        "  d=b\n",
        "print (\"the smaller of two no. is - \",d)\n"
      ],
      "metadata": {
        "colab": {
          "base_uri": "https://localhost:8080/"
        },
        "id": "I4zVV6gOdt-D",
        "outputId": "bbeaa4e3-2744-4a91-e7ca-db1252264e15"
      },
      "execution_count": 7,
      "outputs": [
        {
          "output_type": "stream",
          "name": "stdout",
          "text": [
            "Writing script2\n"
          ]
        }
      ]
    }
  ]
}